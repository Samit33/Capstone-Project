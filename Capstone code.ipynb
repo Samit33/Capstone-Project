{
 "cells": [
  {
   "cell_type": "markdown",
   "metadata": {},
   "source": [
    "### New York City Taxi Trip Duration"
   ]
  },
  {
   "cell_type": "markdown",
   "metadata": {},
   "source": [
    "This is a regression problem which tries to predict the total ride duration of taxi trips in New York City based on pickup time, geo-coordinates, number of passengers, and several other variables. The dataset can be accessed from here: https://www.kaggle.com/c/nyc-taxi-trip-duration/data"
   ]
  },
  {
   "cell_type": "markdown",
   "metadata": {},
   "source": [
    "#### Importing dependencies"
   ]
  },
  {
   "cell_type": "code",
   "execution_count": 1,
   "metadata": {
    "collapsed": true
   },
   "outputs": [],
   "source": [
    "%matplotlib inline\n",
    "import pandas as pd\n",
    "import numpy as np\n",
    "import matplotlib.pyplot as plt\n",
    "import datetime as dt\n",
    "import math\n",
    "from sklearn.cluster import MiniBatchKMeans\n",
    "from sklearn.model_selection import train_test_split"
   ]
  },
  {
   "cell_type": "markdown",
   "metadata": {},
   "source": [
    "### Loading and exploring dataset"
   ]
  },
  {
   "cell_type": "code",
   "execution_count": 2,
   "metadata": {
    "collapsed": true
   },
   "outputs": [],
   "source": [
    "train_data = pd.read_csv('/my_data/train.csv')    # loading train data\n",
    "test_data = pd.read_csv('/my_data/test.csv')    # loading train data"
   ]
  },
  {
   "cell_type": "code",
   "execution_count": 3,
   "metadata": {},
   "outputs": [
    {
     "data": {
      "text/html": [
       "<div>\n",
       "<style>\n",
       "    .dataframe thead tr:only-child th {\n",
       "        text-align: right;\n",
       "    }\n",
       "\n",
       "    .dataframe thead th {\n",
       "        text-align: left;\n",
       "    }\n",
       "\n",
       "    .dataframe tbody tr th {\n",
       "        vertical-align: top;\n",
       "    }\n",
       "</style>\n",
       "<table border=\"1\" class=\"dataframe\">\n",
       "  <thead>\n",
       "    <tr style=\"text-align: right;\">\n",
       "      <th></th>\n",
       "      <th>vendor_id</th>\n",
       "      <th>passenger_count</th>\n",
       "      <th>pickup_longitude</th>\n",
       "      <th>pickup_latitude</th>\n",
       "      <th>dropoff_longitude</th>\n",
       "      <th>dropoff_latitude</th>\n",
       "      <th>trip_duration</th>\n",
       "    </tr>\n",
       "  </thead>\n",
       "  <tbody>\n",
       "    <tr>\n",
       "      <th>count</th>\n",
       "      <td>1.458644e+06</td>\n",
       "      <td>1.458644e+06</td>\n",
       "      <td>1.458644e+06</td>\n",
       "      <td>1.458644e+06</td>\n",
       "      <td>1.458644e+06</td>\n",
       "      <td>1.458644e+06</td>\n",
       "      <td>1.458644e+06</td>\n",
       "    </tr>\n",
       "    <tr>\n",
       "      <th>mean</th>\n",
       "      <td>1.534950e+00</td>\n",
       "      <td>1.664530e+00</td>\n",
       "      <td>-7.397349e+01</td>\n",
       "      <td>4.075092e+01</td>\n",
       "      <td>-7.397342e+01</td>\n",
       "      <td>4.075180e+01</td>\n",
       "      <td>9.594923e+02</td>\n",
       "    </tr>\n",
       "    <tr>\n",
       "      <th>std</th>\n",
       "      <td>4.987772e-01</td>\n",
       "      <td>1.314242e+00</td>\n",
       "      <td>7.090186e-02</td>\n",
       "      <td>3.288119e-02</td>\n",
       "      <td>7.064327e-02</td>\n",
       "      <td>3.589056e-02</td>\n",
       "      <td>5.237432e+03</td>\n",
       "    </tr>\n",
       "    <tr>\n",
       "      <th>min</th>\n",
       "      <td>1.000000e+00</td>\n",
       "      <td>0.000000e+00</td>\n",
       "      <td>-1.219333e+02</td>\n",
       "      <td>3.435970e+01</td>\n",
       "      <td>-1.219333e+02</td>\n",
       "      <td>3.218114e+01</td>\n",
       "      <td>1.000000e+00</td>\n",
       "    </tr>\n",
       "    <tr>\n",
       "      <th>25%</th>\n",
       "      <td>1.000000e+00</td>\n",
       "      <td>1.000000e+00</td>\n",
       "      <td>-7.399187e+01</td>\n",
       "      <td>4.073735e+01</td>\n",
       "      <td>-7.399133e+01</td>\n",
       "      <td>4.073588e+01</td>\n",
       "      <td>3.970000e+02</td>\n",
       "    </tr>\n",
       "    <tr>\n",
       "      <th>50%</th>\n",
       "      <td>2.000000e+00</td>\n",
       "      <td>1.000000e+00</td>\n",
       "      <td>-7.398174e+01</td>\n",
       "      <td>4.075410e+01</td>\n",
       "      <td>-7.397975e+01</td>\n",
       "      <td>4.075452e+01</td>\n",
       "      <td>6.620000e+02</td>\n",
       "    </tr>\n",
       "    <tr>\n",
       "      <th>75%</th>\n",
       "      <td>2.000000e+00</td>\n",
       "      <td>2.000000e+00</td>\n",
       "      <td>-7.396733e+01</td>\n",
       "      <td>4.076836e+01</td>\n",
       "      <td>-7.396301e+01</td>\n",
       "      <td>4.076981e+01</td>\n",
       "      <td>1.075000e+03</td>\n",
       "    </tr>\n",
       "    <tr>\n",
       "      <th>max</th>\n",
       "      <td>2.000000e+00</td>\n",
       "      <td>9.000000e+00</td>\n",
       "      <td>-6.133553e+01</td>\n",
       "      <td>5.188108e+01</td>\n",
       "      <td>-6.133553e+01</td>\n",
       "      <td>4.392103e+01</td>\n",
       "      <td>3.526282e+06</td>\n",
       "    </tr>\n",
       "  </tbody>\n",
       "</table>\n",
       "</div>"
      ],
      "text/plain": [
       "          vendor_id  passenger_count  pickup_longitude  pickup_latitude  \\\n",
       "count  1.458644e+06     1.458644e+06      1.458644e+06     1.458644e+06   \n",
       "mean   1.534950e+00     1.664530e+00     -7.397349e+01     4.075092e+01   \n",
       "std    4.987772e-01     1.314242e+00      7.090186e-02     3.288119e-02   \n",
       "min    1.000000e+00     0.000000e+00     -1.219333e+02     3.435970e+01   \n",
       "25%    1.000000e+00     1.000000e+00     -7.399187e+01     4.073735e+01   \n",
       "50%    2.000000e+00     1.000000e+00     -7.398174e+01     4.075410e+01   \n",
       "75%    2.000000e+00     2.000000e+00     -7.396733e+01     4.076836e+01   \n",
       "max    2.000000e+00     9.000000e+00     -6.133553e+01     5.188108e+01   \n",
       "\n",
       "       dropoff_longitude  dropoff_latitude  trip_duration  \n",
       "count       1.458644e+06      1.458644e+06   1.458644e+06  \n",
       "mean       -7.397342e+01      4.075180e+01   9.594923e+02  \n",
       "std         7.064327e-02      3.589056e-02   5.237432e+03  \n",
       "min        -1.219333e+02      3.218114e+01   1.000000e+00  \n",
       "25%        -7.399133e+01      4.073588e+01   3.970000e+02  \n",
       "50%        -7.397975e+01      4.075452e+01   6.620000e+02  \n",
       "75%        -7.396301e+01      4.076981e+01   1.075000e+03  \n",
       "max        -6.133553e+01      4.392103e+01   3.526282e+06  "
      ]
     },
     "execution_count": 3,
     "metadata": {},
     "output_type": "execute_result"
    }
   ],
   "source": [
    "train_data.head()  # Let us check out the data\n",
    "train_data.describe()   # Basic statistics about the dataset"
   ]
  },
  {
   "cell_type": "markdown",
   "metadata": {},
   "source": [
    "The maximum trip duration is 3526282 seconds, that is approx 980 hours and the minimum trip duration is 1 second. But since we will be using RMSLE as our evaluation metric, the outliers will not cause much trouble.\n",
    "Also the maximum no. of passenger in the vehicle comes out to be 9, which can be considered as an outlier."
   ]
  },
  {
   "cell_type": "code",
   "execution_count": 4,
   "metadata": {},
   "outputs": [
    {
     "name": "stdout",
     "output_type": "stream",
     "text": [
      "Total number of rows in train_data : 1458644\n",
      "Total number of columns in train_data : 11\n",
      "Total missing values : id                    0\n",
      "vendor_id             0\n",
      "pickup_datetime       0\n",
      "dropoff_datetime      0\n",
      "passenger_count       0\n",
      "pickup_longitude      0\n",
      "pickup_latitude       0\n",
      "dropoff_longitude     0\n",
      "dropoff_latitude      0\n",
      "store_and_fwd_flag    0\n",
      "trip_duration         0\n",
      "dtype: int64\n"
     ]
    }
   ],
   "source": [
    "print (\"Total number of rows in train_data : {}\".format(train_data.shape[0]))    #number of rows.\n",
    "print (\"Total number of columns in train_data : {}\".format(train_data.shape[1]))   # number of columns\n",
    "print (\"Total missing values : {}\".format(train_data.isnull().sum()))         # finding out total number of missing values."
   ]
  },
  {
   "cell_type": "markdown",
   "metadata": {},
   "source": [
    "### Data Preprocessing"
   ]
  },
  {
   "cell_type": "markdown",
   "metadata": {},
   "source": [
    "#### Removing outliers "
   ]
  },
  {
   "cell_type": "markdown",
   "metadata": {},
   "source": [
    "Removing outliers from the trip duration variable."
   ]
  },
  {
   "cell_type": "code",
   "execution_count": 5,
   "metadata": {
    "collapsed": true
   },
   "outputs": [],
   "source": [
    "m = np.mean(train_data['trip_duration'])\n",
    "s = np.std(train_data['trip_duration'])\n",
    "train_data = train_data[train_data['trip_duration'] <= m + 2*s]\n",
    "train_data = train_data[train_data['trip_duration'] >= m - 2*s]"
   ]
  },
  {
   "cell_type": "markdown",
   "metadata": {},
   "source": [
    "Removing outliers from pickup and dropoff coordinates"
   ]
  },
  {
   "cell_type": "markdown",
   "metadata": {},
   "source": [
    "The boundary of Ney York City comes out as <br/> \n",
    "\n",
    "city_long_border = (-74.03, -73.75)        Longitudes <br/r>\n",
    "city_lat_border = (40.63, 40.85)           Latitudes <br/r>\n",
    "\n",
    "So we will remove all pickup and dropoff locations that fall outside these coordinates."
   ]
  },
  {
   "cell_type": "code",
   "execution_count": 6,
   "metadata": {
    "collapsed": true
   },
   "outputs": [],
   "source": [
    "train_data = train_data[train_data['pickup_longitude'] <= -73.75]\n",
    "train_data = train_data[train_data['pickup_longitude'] >= -74.03]\n",
    "train_data = train_data[train_data['pickup_latitude'] <= 40.85]\n",
    "train_data = train_data[train_data['pickup_latitude'] >= 40.63]\n",
    "train_data = train_data[train_data['dropoff_longitude'] <= -73.75]\n",
    "train_data = train_data[train_data['dropoff_longitude'] >= -74.03]\n",
    "train_data = train_data[train_data['dropoff_latitude'] <= 40.85]\n",
    "train_data = train_data[train_data['dropoff_latitude'] >= 40.63]"
   ]
  },
  {
   "cell_type": "markdown",
   "metadata": {},
   "source": [
    "Removing outlier passenger_count data where the count of passenger more than 6"
   ]
  },
  {
   "cell_type": "code",
   "execution_count": 7,
   "metadata": {
    "collapsed": true
   },
   "outputs": [],
   "source": [
    "train_data = train_data[train_data['passenger_count'] <= 6]\n",
    "test_data = test_data[test_data['passenger_count'] <= 6]"
   ]
  },
  {
   "cell_type": "markdown",
   "metadata": {},
   "source": [
    "### Feature Extraction"
   ]
  },
  {
   "cell_type": "markdown",
   "metadata": {},
   "source": [
    "Extracting Datetime features from our train and test date: The total trip duration may depend on the hour of the day, month as well as day of the week. So we will extract these features."
   ]
  },
  {
   "cell_type": "code",
   "execution_count": 8,
   "metadata": {
    "collapsed": true
   },
   "outputs": [],
   "source": [
    "train_data['pickup_datetime'] = pd.to_datetime(train_data.pickup_datetime)\n",
    "test_data['pickup_datetime'] = pd.to_datetime(test_data.pickup_datetime)\n",
    "train_data.loc[:, 'pickup_date'] = train_data['pickup_datetime'].dt.date\n",
    "test_data.loc[:, 'pickup_date'] = test_data['pickup_datetime'].dt.date\n",
    "train_data['dropoff_datetime'] = pd.to_datetime(train_data.dropoff_datetime)"
   ]
  },
  {
   "cell_type": "code",
   "execution_count": 9,
   "metadata": {
    "collapsed": true
   },
   "outputs": [],
   "source": [
    "#Extracting Month\n",
    "train_data['Month'] = train_data['pickup_datetime'].dt.month\n",
    "test_data['Month'] = test_data['pickup_datetime'].dt.month"
   ]
  },
  {
   "cell_type": "code",
   "execution_count": 10,
   "metadata": {
    "collapsed": true
   },
   "outputs": [],
   "source": [
    "#Extracting Hour\n",
    "train_data['Hour'] = train_data['pickup_datetime'].dt.hour\n",
    "test_data['Hour'] = test_data['pickup_datetime'].dt.hour"
   ]
  },
  {
   "cell_type": "code",
   "execution_count": 11,
   "metadata": {
    "collapsed": true
   },
   "outputs": [],
   "source": [
    "#Extracting Day of the week\n",
    "train_data['dayofweek'] = train_data['pickup_datetime'].dt.dayofweek\n",
    "test_data['dayofweek'] = test_data['pickup_datetime'].dt.dayofweek"
   ]
  },
  {
   "cell_type": "markdown",
   "metadata": {},
   "source": [
    "#### Extracting distance and directionality features"
   ]
  },
  {
   "cell_type": "markdown",
   "metadata": {},
   "source": [
    "We can determine the distance and direction of a each trip based on the pickup and dropoff coordinates. Taken from this [post](https://www.kaggle.com/gaborfodor/from-eda-to-the-top-lb-0-367), For this the following three functions are required:"
   ]
  },
  {
   "cell_type": "code",
   "execution_count": 12,
   "metadata": {
    "collapsed": true
   },
   "outputs": [],
   "source": [
    "def haversine_array(lat1, lng1, lat2, lng2):\n",
    "    lat1, lng1, lat2, lng2 = map(np.radians, (lat1, lng1, lat2, lng2))\n",
    "    AVG_EARTH_RADIUS = 6371  # in km\n",
    "    lat = lat2 - lat1\n",
    "    lng = lng2 - lng1\n",
    "    d = np.sin(lat * 0.5) ** 2 + np.cos(lat1) * np.cos(lat2) * np.sin(lng * 0.5) ** 2\n",
    "    h = 2 * AVG_EARTH_RADIUS * np.arcsin(np.sqrt(d))\n",
    "    return h\n",
    "\n",
    "def dummy_manhattan_distance(lat1, lng1, lat2, lng2):\n",
    "    a = haversine_array(lat1, lng1, lat1, lng2)\n",
    "    b = haversine_array(lat1, lng1, lat2, lng1)\n",
    "    return a + b\n",
    "\n",
    "def bearing_array(lat1, lng1, lat2, lng2):\n",
    "    AVG_EARTH_RADIUS = 6371  # in km\n",
    "    lng_delta_rad = np.radians(lng2 - lng1)\n",
    "    lat1, lng1, lat2, lng2 = map(np.radians, (lat1, lng1, lat2, lng2))\n",
    "    y = np.sin(lng_delta_rad) * np.cos(lat2)\n",
    "    x = np.cos(lat1) * np.sin(lat2) - np.sin(lat1) * np.cos(lat2) * np.cos(lng_delta_rad)\n",
    "    return np.degrees(np.arctan2(y, x))"
   ]
  },
  {
   "cell_type": "markdown",
   "metadata": {},
   "source": [
    "The three functions given above are for \n",
    "1. calculating the haversine distance between any two coordinates. This gives us the great circle distance between any two points on the map.\n",
    "2. calculating the manhattan distance\n",
    "3. calculating the directionality ( bearing) of the distance travelled"
   ]
  },
  {
   "cell_type": "code",
   "execution_count": 13,
   "metadata": {
    "collapsed": true
   },
   "outputs": [],
   "source": [
    "train_data.loc[:, 'distance_haversine'] = haversine_array(train_data['pickup_latitude'].values, train_data['pickup_longitude'].values, train_data['dropoff_latitude'].values, train_data['dropoff_longitude'].values)\n",
    "test_data.loc[:, 'distance_haversine'] = haversine_array(test_data['pickup_latitude'].values, test_data['pickup_longitude'].values, test_data['dropoff_latitude'].values, test_data['dropoff_longitude'].values)    \n",
    "    \n",
    "train_data.loc[:, 'distance_dummy_manhattan'] =  dummy_manhattan_distance(train_data['pickup_latitude'].values, train_data['pickup_longitude'].values, train_data['dropoff_latitude'].values, train_data['dropoff_longitude'].values)\n",
    "test_data.loc[:, 'distance_dummy_manhattan'] =  dummy_manhattan_distance(test_data['pickup_latitude'].values, test_data['pickup_longitude'].values, test_data['dropoff_latitude'].values, test_data['dropoff_longitude'].values)\n",
    "\n",
    "train_data.loc[:, 'direction'] = bearing_array(train_data['pickup_latitude'].values, train_data['pickup_longitude'].values, train_data['dropoff_latitude'].values, train_data['dropoff_longitude'].values)\n",
    "test_data.loc[:, 'direction'] = bearing_array(test_data['pickup_latitude'].values, test_data['pickup_longitude'].values, test_data['dropoff_latitude'].values, test_data['dropoff_longitude'].values)"
   ]
  },
  {
   "cell_type": "markdown",
   "metadata": {},
   "source": [
    "### Handling pickup and dropoff coordinates data"
   ]
  },
  {
   "cell_type": "markdown",
   "metadata": {},
   "source": [
    "One way to handle the pickup and dropoff coordinates in our train and test data is form clusters of these locations. We can use k-means clustering algorithm to form clusters and then use one hot encoding technique. Here we will be forming 50 clusters."
   ]
  },
  {
   "cell_type": "code",
   "execution_count": 14,
   "metadata": {
    "collapsed": true
   },
   "outputs": [],
   "source": [
    "coords = np.vstack((train_data[['pickup_latitude', 'pickup_longitude']].values,\n",
    "                    train_data[['dropoff_latitude', 'dropoff_longitude']].values))"
   ]
  },
  {
   "cell_type": "code",
   "execution_count": 15,
   "metadata": {
    "collapsed": true
   },
   "outputs": [],
   "source": [
    "sample_ind = np.random.permutation(len(coords))[:500000]\n",
    "kmeans = MiniBatchKMeans(n_clusters=50, batch_size=10000).fit(coords[sample_ind])"
   ]
  },
  {
   "cell_type": "code",
   "execution_count": 16,
   "metadata": {
    "collapsed": true
   },
   "outputs": [],
   "source": [
    "train_data.loc[:, 'pickup_cluster'] = kmeans.predict(train_data[['pickup_latitude', 'pickup_longitude']])\n",
    "train_data.loc[:, 'dropoff_cluster'] = kmeans.predict(train_data[['dropoff_latitude', 'dropoff_longitude']])\n",
    "test_data.loc[:, 'pickup_cluster'] = kmeans.predict(test_data[['pickup_latitude', 'pickup_longitude']])\n",
    "test_data.loc[:, 'dropoff_cluster'] = kmeans.predict(test_data[['dropoff_latitude', 'dropoff_longitude']])"
   ]
  },
  {
   "cell_type": "markdown",
   "metadata": {},
   "source": [
    "### Visualizing our dataset"
   ]
  },
  {
   "cell_type": "markdown",
   "metadata": {},
   "source": [
    "We will first log transform 'trip_duration' as this will take care of the extreme values."
   ]
  },
  {
   "cell_type": "code",
   "execution_count": 17,
   "metadata": {},
   "outputs": [
    {
     "data": {
      "image/png": "[encoded data removed]",
      "text/plain": [
       "<matplotlib.figure.Figure at 0x7f5597a214a8>"
      ]
     },
     "metadata": {},
     "output_type": "display_data"
    }
   ],
   "source": [
    "train_data['log_trip_duration'] = np.log(train_data['trip_duration'].values + 1)\n",
    "plt.hist(train_data['log_trip_duration'].values, bins=100)\n",
    "plt.xlabel('log(trip_duration)')\n",
    "plt.ylabel('frequency')\n",
    "plt.show()"
   ]
  },
  {
   "cell_type": "markdown",
   "metadata": {},
   "source": [
    "We see that our target variable is normally distributed, with only a few outliers. Most trips are between e^4 and e^8 seconds i.e most trips are between 1 min and 60 mins long."
   ]
  },
  {
   "cell_type": "markdown",
   "metadata": {},
   "source": [
    "Let us see if the pickup_hours, pickup_day affects the speed of the travel."
   ]
  },
  {
   "cell_type": "code",
   "execution_count": 18,
   "metadata": {},
   "outputs": [
    {
     "data": {
      "image/png": "[encoded data removed]",
      "text/plain": [
       "<matplotlib.figure.Figure at 0x7f55a3c73f60>"
      ]
     },
     "metadata": {},
     "output_type": "display_data"
    }
   ],
   "source": [
    "train_data.loc[:, 'avg_speed_h'] = 1000 * train_data['distance_haversine'] / train_data['trip_duration']     # Speed in m/s\n",
    "fig, ax = plt.subplots(ncols=3, sharey=True)\n",
    "ax[0].plot(train_data.groupby('Hour').mean()['avg_speed_h'], 'bo-', lw=2, alpha=0.7)\n",
    "ax[1].plot(train_data.groupby('dayofweek').mean()['avg_speed_h'], 'go-', lw=2, alpha=0.7)\n",
    "ax[2].plot(train_data.groupby('Month').mean()['avg_speed_h'], 'go-', lw=2, alpha=0.7)\n",
    "ax[0].set_xlabel('Hour')\n",
    "ax[1].set_xlabel('Day of the week')\n",
    "ax[2].set_xlabel('Month')\n",
    "ax[0].set_ylabel('Average Speed in m/s')\n",
    "ax[1].set_ylabel('Average Speed in m/s')\n",
    "ax[2].set_ylabel('Average Speed in m/s')\n",
    "fig.suptitle('Average Speed in NYC')\n",
    "plt.show()"
   ]
  },
  {
   "cell_type": "markdown",
   "metadata": {},
   "source": [
    "We see that the average speed of taxis depends on the hour of pickup and also on the day of the week. As expected the speed is the slowest during the time period 09:00 hrs to 19:00 hrs. Similarly weekdays are the slowest and there is some increase in average speeds during the weekends.\n",
    "Finally, for the average speed in various months we see that  in the winter months the average speed goes up. This could be because of less traffic in winter months, as a result the average speed goes up."
   ]
  },
  {
   "cell_type": "markdown",
   "metadata": {},
   "source": [
    "#### Adding information from additional dataset"
   ]
  },
  {
   "cell_type": "markdown",
   "metadata": {},
   "source": [
    "We will be usinng the OSRM fastest route data - The fastest routes for each data point is extracted. It contains features like starting_street, end_street, total_distance, total_travel_time, number_of_steps (one step consists of some driving and an action the taxi needs to perform. It can be something like a turn or going on to a highway)\n",
    "(Source: https://www.kaggle.com/oscarleo/new-york-city-taxi-with-osrm)\n"
   ]
  },
  {
   "cell_type": "code",
   "execution_count": 19,
   "metadata": {
    "collapsed": true
   },
   "outputs": [],
   "source": [
    "fr1 = pd.read_csv('/my_data/fastest_routes_train_part_1.csv', usecols=['id', 'total_distance', 'total_travel_time',  'number_of_steps'])\n",
    "fr2 = pd.read_csv('/my_data/fastest_routes_train_part_2.csv', usecols=['id', 'total_distance', 'total_travel_time', 'number_of_steps'])\n",
    "train_fastest_route = pd.concat((fr1, fr2))\n",
    "test_fastest_route = pd.read_csv('/my_data/fastest_routes_train_part_1.csv',\n",
    "                               usecols=['id', 'total_distance', 'total_travel_time', 'number_of_steps'])\n",
    "\n",
    "train_data = train_data.merge(train_fastest_route, how='left', on='id')\n",
    "test_data = test_data.merge(test_fastest_route, how='left', on='id')"
   ]
  },
  {
   "cell_type": "code",
   "execution_count": 20,
   "metadata": {
    "collapsed": true
   },
   "outputs": [],
   "source": [
    "train_data.dropna(axis=0, how='any', inplace=True)     # dropping NA values"
   ]
  },
  {
   "cell_type": "code",
   "execution_count": 21,
   "metadata": {},
   "outputs": [
    {
     "data": {
      "text/plain": [
       "((1437127, 25), (625132, 21))"
      ]
     },
     "execution_count": 21,
     "metadata": {},
     "output_type": "execute_result"
    }
   ],
   "source": [
    "train_data.shape, test_data.shape"
   ]
  },
  {
   "cell_type": "markdown",
   "metadata": {},
   "source": [
    "#### Using one hot encoding for handling our categorical variables namely vendor id, passenger count, store_and_fwd_flag, month, DayOfMonth, Hour, DayOfWeek, pickup_cluster, dropoff_cluster "
   ]
  },
  {
   "cell_type": "code",
   "execution_count": 22,
   "metadata": {
    "collapsed": true
   },
   "outputs": [],
   "source": [
    "vendor_train = pd.get_dummies(train_data['vendor_id'], prefix='vi', prefix_sep='_')\n",
    "vendor_test = pd.get_dummies(test_data['vendor_id'], prefix='vi', prefix_sep='_')\n",
    "passenger_count_train = pd.get_dummies(train_data['passenger_count'], prefix='pc', prefix_sep='_')\n",
    "passenger_count_test = pd.get_dummies(test_data['passenger_count'], prefix='pc', prefix_sep='_')\n",
    "store_and_fwd_flag_train = pd.get_dummies(train_data['store_and_fwd_flag'], prefix='sf', prefix_sep='_')\n",
    "store_and_fwd_flag_test = pd.get_dummies(test_data['store_and_fwd_flag'], prefix='sf', prefix_sep='_')\n",
    "cluster_pickup_train = pd.get_dummies(train_data['pickup_cluster'], prefix='p', prefix_sep='_')\n",
    "cluster_pickup_test = pd.get_dummies(test_data['pickup_cluster'], prefix='p', prefix_sep='_')\n",
    "cluster_dropoff_train = pd.get_dummies(train_data['dropoff_cluster'], prefix='d', prefix_sep='_')\n",
    "cluster_dropoff_test = pd.get_dummies(test_data['dropoff_cluster'], prefix='d', prefix_sep='_')\n",
    "\n",
    "month_train = pd.get_dummies(train_data['Month'], prefix='m', prefix_sep='_')\n",
    "month_test = pd.get_dummies(test_data['Month'], prefix='m', prefix_sep='_')\n",
    "hour_train = pd.get_dummies(train_data['Hour'], prefix='h', prefix_sep='_')\n",
    "hour_test = pd.get_dummies(test_data['Hour'], prefix='h', prefix_sep='_')\n",
    "dow_train = pd.get_dummies(train_data['dayofweek'], prefix='dow', prefix_sep='_')\n",
    "dow_test = pd.get_dummies(test_data['dayofweek'], prefix='dow', prefix_sep='_')"
   ]
  },
  {
   "cell_type": "markdown",
   "metadata": {},
   "source": [
    "Now that we have on-hot encoded our train and test data we can drop the categorical variables"
   ]
  },
  {
   "cell_type": "code",
   "execution_count": 23,
   "metadata": {
    "collapsed": true
   },
   "outputs": [],
   "source": [
    "train_data = train_data.drop(['id','vendor_id','passenger_count','pickup_datetime','pickup_date','store_and_fwd_flag','Month','Hour','dayofweek',\n",
    "                   'pickup_longitude','pickup_latitude','dropoff_longitude','dropoff_latitude'],axis = 1)\n",
    "\n",
    "test_data = test_data.drop(['id','vendor_id','passenger_count','pickup_datetime','pickup_date','store_and_fwd_flag','Month','Hour','dayofweek',\n",
    "                   'pickup_longitude','pickup_latitude','dropoff_longitude','dropoff_latitude'], axis = 1)\n",
    "\n",
    "train_data = train_data.drop(['dropoff_datetime','avg_speed_h','log_trip_duration'], axis = 1) #dropping log_trip_duration"
   ]
  },
  {
   "cell_type": "markdown",
   "metadata": {},
   "source": [
    "Lets take a look at our train and test data"
   ]
  },
  {
   "cell_type": "code",
   "execution_count": 24,
   "metadata": {},
   "outputs": [
    {
     "data": {
      "text/plain": [
       "((1437127, 9), (625132, 8))"
      ]
     },
     "execution_count": 24,
     "metadata": {},
     "output_type": "execute_result"
    }
   ],
   "source": [
    "train_data.shape,test_data.shape"
   ]
  },
  {
   "cell_type": "markdown",
   "metadata": {},
   "source": [
    "We should now add our one hot encoded variables to the train and test datasets"
   ]
  },
  {
   "cell_type": "code",
   "execution_count": 25,
   "metadata": {
    "collapsed": true
   },
   "outputs": [],
   "source": [
    "train_final = pd.concat([train_data,vendor_train,passenger_count_train,store_and_fwd_flag_train,cluster_pickup_train,\n",
    "                          cluster_dropoff_train, month_train,hour_train,dow_train], axis=1)"
   ]
  },
  {
   "cell_type": "code",
   "execution_count": 26,
   "metadata": {
    "collapsed": true
   },
   "outputs": [],
   "source": [
    "test_final = pd.concat([test_data,vendor_test,passenger_count_test,store_and_fwd_flag_test,cluster_pickup_test, \n",
    "                        cluster_dropoff_test, month_test, hour_test,dow_test], axis=1)"
   ]
  },
  {
   "cell_type": "code",
   "execution_count": 27,
   "metadata": {},
   "outputs": [
    {
     "data": {
      "text/plain": [
       "((1437127, 157), (625132, 156))"
      ]
     },
     "execution_count": 27,
     "metadata": {},
     "output_type": "execute_result"
    }
   ],
   "source": [
    "train_final.shape, test_final.shape"
   ]
  },
  {
   "cell_type": "markdown",
   "metadata": {},
   "source": [
    "### Splitting train_final further into training set and test set"
   ]
  },
  {
   "cell_type": "markdown",
   "metadata": {},
   "source": [
    "We should now split the train_final set further into train and test set, this will enable us to tweak model parameters to increase accuracy and help us to avoid overfitting. We will keep the test_final set for our final submission in the kaggle competition."
   ]
  },
  {
   "cell_type": "markdown",
   "metadata": {},
   "source": [
    "Before splitting our train_final we need to change the form into the form to X matrix and Y labels, as this form is the required format for inputting into our sklearn algorithm"
   ]
  },
  {
   "cell_type": "code",
   "execution_count": 28,
   "metadata": {
    "collapsed": true
   },
   "outputs": [],
   "source": [
    "duration = train_final['trip_duration']                 # Using trip_duration as Y labels\n",
    "features = train_final.drop('trip_duration', axis=1)"
   ]
  },
  {
   "cell_type": "code",
   "execution_count": 29,
   "metadata": {
    "collapsed": true
   },
   "outputs": [],
   "source": [
    "X_train, X_test, y_train, y_test = train_test_split(features, duration, train_size= 0.8, random_state=0)"
   ]
  },
  {
   "cell_type": "code",
   "execution_count": 30,
   "metadata": {},
   "outputs": [
    {
     "name": "stdout",
     "output_type": "stream",
     "text": [
      "(1149701, 156) (287426, 156) (1149701,) (287426,)\n"
     ]
    }
   ],
   "source": [
    "print (X_train.shape, X_test.shape, y_train.shape, y_test.shape)        # print shape of X_train, X_test"
   ]
  },
  {
   "cell_type": "markdown",
   "metadata": {},
   "source": [
    "#### Establishing performance matrix"
   ]
  },
  {
   "cell_type": "code",
   "execution_count": 31,
   "metadata": {
    "collapsed": true
   },
   "outputs": [],
   "source": [
    "def performance_metric(actual, predicted):\n",
    "    \"\"\" Calculates and returns the performance score between \n",
    "        true and predicted values based on the metric chosen. \"\"\"\n",
    "     \n",
    "   \n",
    "    assert(len(predicted) == len(actual))\n",
    "    p = np.log(np.array(predicted) + 1)\n",
    "    a = np.log(np.array(actual) + 1)\n",
    "    score = (((p - a)**2).sum() / len(predicted))**0.5\n",
    "\n",
    "    \n",
    "    # Return the score\n",
    "    return score"
   ]
  },
  {
   "cell_type": "markdown",
   "metadata": {},
   "source": [
    "### Checking the benchmark model"
   ]
  },
  {
   "cell_type": "markdown",
   "metadata": {},
   "source": [
    "A good benchmark model would be one that is solely based on the distance of the trip divided by the average speed of taxis in city like New York (not taking into account other variables like traffic, road conditions, location etc.) Here we will assume an average speed of 11.5 mph (18.50 kilometer per hour). (source: http://animalnewyork.com/2014/data-reveals-worst-times-traffic-nyc)"
   ]
  },
  {
   "cell_type": "code",
   "execution_count": 32,
   "metadata": {
    "collapsed": true
   },
   "outputs": [],
   "source": [
    "pred_benchmark = (X_test['distance_haversine']/18.50)*3600      # trip_duration in seconds"
   ]
  },
  {
   "cell_type": "code",
   "execution_count": 33,
   "metadata": {},
   "outputs": [
    {
     "name": "stdout",
     "output_type": "stream",
     "text": [
      "0.755105106805\n"
     ]
    }
   ],
   "source": [
    "error_benchmark = performance_metric(y_test, pred_benchmark)\n",
    "print (error_benchmark)"
   ]
  },
  {
   "cell_type": "markdown",
   "metadata": {},
   "source": [
    "##  Implementing a Decision Tree Regressor"
   ]
  },
  {
   "cell_type": "markdown",
   "metadata": {},
   "source": [
    "### Using grid search to find best model"
   ]
  },
  {
   "cell_type": "code",
   "execution_count": 72,
   "metadata": {
    "collapsed": true
   },
   "outputs": [],
   "source": [
    "from sklearn.tree import DecisionTreeRegressor\n",
    "from sklearn.metrics import make_scorer\n",
    "from sklearn.model_selection import GridSearchCV\n",
    "\n",
    "def fit_model_DT(X, y):\n",
    "    \"\"\" Performs grid search over the 'max_depth' parameter for a \n",
    "        decision tree regressor trained on the input data [X, y]. \"\"\"\n",
    "    \n",
    "    \n",
    "    # Create a decision tree regressor object\n",
    "    regressor = DecisionTreeRegressor()\n",
    "\n",
    "    # Create a dictionary for the parameter 'max_depth' with a range from 1 to 10\n",
    "    params = {'max_depth':[1,2,3,4,5,6,7,8,9,10]} \n",
    "\n",
    "    # Transform 'performance_metric' into a scoring function using 'make_scorer' \n",
    "    scoring_fnc = make_scorer(performance_metric)\n",
    "\n",
    "    # Create the grid search object\n",
    "    grid = GridSearchCV(regressor, param_grid=params, scoring=scoring_fnc)\n",
    "\n",
    "    # Fit the grid search object to the data to compute the optimal model\n",
    "    grid = grid.fit(X, y)\n",
    "\n",
    "    # Return the optimal model after fitting the data\n",
    "    return grid.best_estimator_"
   ]
  },
  {
   "cell_type": "code",
   "execution_count": 73,
   "metadata": {},
   "outputs": [
    {
     "data": {
      "text/plain": [
       "DecisionTreeRegressor(criterion='mse', max_depth=10, max_features=None,\n",
       "           max_leaf_nodes=None, min_impurity_split=1e-07,\n",
       "           min_samples_leaf=1, min_samples_split=2,\n",
       "           min_weight_fraction_leaf=0.0, presort=False, random_state=None,\n",
       "           splitter='best')"
      ]
     },
     "execution_count": 73,
     "metadata": {},
     "output_type": "execute_result"
    }
   ],
   "source": [
    "from sklearn.tree import DecisionTreeRegressor\n",
    "reg = DecisionTreeRegressor(max_depth=10)\n",
    "reg.fit(X_train,y_train)"
   ]
  },
  {
   "cell_type": "markdown",
   "metadata": {},
   "source": [
    "#### Optimal Model"
   ]
  },
  {
   "cell_type": "code",
   "execution_count": 74,
   "metadata": {},
   "outputs": [
    {
     "name": "stdout",
     "output_type": "stream",
     "text": [
      "Parameter 'max_depth' is 1 for the optimal model.\n"
     ]
    }
   ],
   "source": [
    "# Fit the training data to the model using grid search\n",
    "reg = fit_model_DT(X_train, y_train)\n",
    "\n",
    "# Produce the value for 'max_depth'\n",
    "print (\"Parameter 'max_depth' is {} for the optimal model.\".format(reg.get_params()['max_depth']))"
   ]
  },
  {
   "cell_type": "markdown",
   "metadata": {},
   "source": [
    "##### Calculating our predicition on test data and RMSLE error"
   ]
  },
  {
   "cell_type": "code",
   "execution_count": 75,
   "metadata": {},
   "outputs": [
    {
     "name": "stdout",
     "output_type": "stream",
     "text": [
      "0.667422700392\n"
     ]
    }
   ],
   "source": [
    "prediction = reg.predict(X_test)\n",
    "error_test = performance_metric(y_test, prediction)\n",
    "print (error_test)"
   ]
  },
  {
   "cell_type": "markdown",
   "metadata": {},
   "source": [
    "### Implementing Random Forest Regressor"
   ]
  },
  {
   "cell_type": "markdown",
   "metadata": {},
   "source": [
    "Using grid search to find best model"
   ]
  },
  {
   "cell_type": "code",
   "execution_count": 34,
   "metadata": {
    "collapsed": true
   },
   "outputs": [],
   "source": [
    "from sklearn.ensemble import RandomForestRegressor\n"
   ]
  },
  {
   "cell_type": "code",
   "execution_count": 35,
   "metadata": {},
   "outputs": [
    {
     "data": {
      "text/plain": [
       "RandomForestRegressor(bootstrap=True, criterion='mse', max_depth=10,\n",
       "           max_features='auto', max_leaf_nodes=None,\n",
       "           min_impurity_split=1e-07, min_samples_leaf=1,\n",
       "           min_samples_split=2, min_weight_fraction_leaf=0.0,\n",
       "           n_estimators=10, n_jobs=1, oob_score=False, random_state=99,\n",
       "           verbose=0, warm_start=False)"
      ]
     },
     "execution_count": 35,
     "metadata": {},
     "output_type": "execute_result"
    }
   ],
   "source": [
    "rfr = RandomForestRegressor(max_depth =10, random_state = 99)\n",
    "rfr.fit(X_train, y_train)\n"
   ]
  },
  {
   "cell_type": "code",
   "execution_count": 36,
   "metadata": {},
   "outputs": [
    {
     "name": "stdout",
     "output_type": "stream",
     "text": [
      "0.444008113157\n"
     ]
    }
   ],
   "source": [
    "prediction = rfr.predict(X_test)\n",
    "error_test = performance_metric(y_test, prediction)\n",
    "print (error_test)"
   ]
  },
  {
   "cell_type": "markdown",
   "metadata": {},
   "source": [
    "The RMSLE error using the Random Forest Regressor algorithm comes out to be 0.4440"
   ]
  },
  {
   "cell_type": "markdown",
   "metadata": {},
   "source": [
    "### Results"
   ]
  },
  {
   "cell_type": "markdown",
   "metadata": {},
   "source": [
    "#### Visualizing most important features"
   ]
  },
  {
   "cell_type": "code",
   "execution_count": 40,
   "metadata": {
    "collapsed": true
   },
   "outputs": [],
   "source": [
    "# Extracting the feature importances using .feature_importances_ \n",
    "featureimp = features.columns"
   ]
  },
  {
   "cell_type": "code",
   "execution_count": 43,
   "metadata": {},
   "outputs": [],
   "source": [
    "imp_features_sorted = sorted(zip(map(lambda x: round(x, 4), rfr.feature_importances_), featureimp), \n",
    "             reverse=True)"
   ]
  },
  {
   "cell_type": "code",
   "execution_count": 45,
   "metadata": {},
   "outputs": [
    {
     "name": "stdout",
     "output_type": "stream",
     "text": [
      "Features sorted by their score:\n",
      "[(0.7379, 'total_travel_time'),\n",
      " (0.1694, 'total_distance'),\n",
      " (0.0149, 'distance_haversine'),\n",
      " (0.0083000000000000001, 'dow_6'),\n",
      " (0.0077999999999999996, 'direction'),\n",
      " (0.0071999999999999998, 'h_16'),\n",
      " (0.0067000000000000002, 'h_15'),\n",
      " (0.0060000000000000001, 'h_17'),\n",
      " (0.0041000000000000003, 'h_6'),\n",
      " (0.0035000000000000001, 'h_14'),\n",
      " (0.0028, 'h_7'),\n",
      " (0.0025999999999999999, 'dow_5'),\n",
      " (0.0022000000000000001, 'distance_dummy_manhattan'),\n",
      " (0.0020999999999999999, 'dropoff_cluster'),\n",
      " (0.0020999999999999999, 'd_22'),\n",
      " (0.0018, 'h_18'),\n",
      " (0.0016999999999999999, 'h_0'),\n",
      " (0.0015, 'h_1'),\n",
      " (0.0014, 'd_3'),\n",
      " (0.0011999999999999999, 'h_8'),\n",
      " (0.0011000000000000001, 'h_2'),\n",
      " (0.00089999999999999998, 'number_of_steps'),\n",
      " (0.00080000000000000004, 'm_6'),\n",
      " (0.00080000000000000004, 'h_23'),\n",
      " (0.00080000000000000004, 'h_13'),\n",
      " (0.00080000000000000004, 'd_4'),\n",
      " (0.00069999999999999999, 'd_25'),\n",
      " (0.00059999999999999995, 'm_5'),\n",
      " (0.00059999999999999995, 'h_5'),\n",
      " (0.00050000000000000001, 'h_21'),\n",
      " (0.00050000000000000001, 'd_7'),\n",
      " (0.00040000000000000002, 'dow_4'),\n",
      " (0.00029999999999999997, 'p_2'),\n",
      " (0.00029999999999999997, 'm_2'),\n",
      " (0.00029999999999999997, 'h_20'),\n",
      " (0.00029999999999999997, 'dow_2'),\n",
      " (0.00020000000000000001, 'vi_1'),\n",
      " (0.00020000000000000001, 'pickup_cluster'),\n",
      " (0.00020000000000000001, 'm_1'),\n",
      " (0.00020000000000000001, 'h_22'),\n",
      " (0.00020000000000000001, 'dow_3'),\n",
      " (0.00020000000000000001, 'dow_0'),\n",
      " (0.00020000000000000001, 'd_48'),\n",
      " (0.00020000000000000001, 'd_46'),\n",
      " (0.00020000000000000001, 'd_28'),\n",
      " (0.00020000000000000001, 'd_2'),\n",
      " (0.0001, 'vi_2'),\n",
      " (0.0001, 'pc_5'),\n",
      " (0.0001, 'pc_2'),\n",
      " (0.0001, 'pc_1'),\n",
      " (0.0001, 'p_5'),\n",
      " (0.0001, 'p_46'),\n",
      " (0.0001, 'p_42'),\n",
      " (0.0001, 'p_20'),\n",
      " (0.0001, 'm_3'),\n",
      " (0.0001, 'h_9'),\n",
      " (0.0001, 'h_3'),\n",
      " (0.0001, 'h_19'),\n",
      " (0.0001, 'h_12'),\n",
      " (0.0001, 'h_11'),\n",
      " (0.0001, 'd_5'),\n",
      " (0.0001, 'd_34'),\n",
      " (0.0001, 'd_31'),\n",
      " (0.0, 'sf_Y'),\n",
      " (0.0, 'sf_N'),\n",
      " (0.0, 'pc_6'),\n",
      " (0.0, 'pc_4'),\n",
      " (0.0, 'pc_3'),\n",
      " (0.0, 'pc_0'),\n",
      " (0.0, 'p_9'),\n",
      " (0.0, 'p_8'),\n",
      " (0.0, 'p_7'),\n",
      " (0.0, 'p_6'),\n",
      " (0.0, 'p_49'),\n",
      " (0.0, 'p_48'),\n",
      " (0.0, 'p_47'),\n",
      " (0.0, 'p_45'),\n",
      " (0.0, 'p_44'),\n",
      " (0.0, 'p_43'),\n",
      " (0.0, 'p_41'),\n",
      " (0.0, 'p_40'),\n",
      " (0.0, 'p_4'),\n",
      " (0.0, 'p_39'),\n",
      " (0.0, 'p_38'),\n",
      " (0.0, 'p_37'),\n",
      " (0.0, 'p_36'),\n",
      " (0.0, 'p_35'),\n",
      " (0.0, 'p_34'),\n",
      " (0.0, 'p_33'),\n",
      " (0.0, 'p_32'),\n",
      " (0.0, 'p_31'),\n",
      " (0.0, 'p_30'),\n",
      " (0.0, 'p_3'),\n",
      " (0.0, 'p_29'),\n",
      " (0.0, 'p_28'),\n",
      " (0.0, 'p_27'),\n",
      " (0.0, 'p_26'),\n",
      " (0.0, 'p_25'),\n",
      " (0.0, 'p_24'),\n",
      " (0.0, 'p_23'),\n",
      " (0.0, 'p_22'),\n",
      " (0.0, 'p_21'),\n",
      " (0.0, 'p_19'),\n",
      " (0.0, 'p_18'),\n",
      " (0.0, 'p_17'),\n",
      " (0.0, 'p_16'),\n",
      " (0.0, 'p_15'),\n",
      " (0.0, 'p_14'),\n",
      " (0.0, 'p_13'),\n",
      " (0.0, 'p_12'),\n",
      " (0.0, 'p_11'),\n",
      " (0.0, 'p_10'),\n",
      " (0.0, 'p_1'),\n",
      " (0.0, 'p_0'),\n",
      " (0.0, 'm_4'),\n",
      " (0.0, 'h_4'),\n",
      " (0.0, 'h_10'),\n",
      " (0.0, 'dow_1'),\n",
      " (0.0, 'd_9'),\n",
      " (0.0, 'd_8'),\n",
      " (0.0, 'd_6'),\n",
      " (0.0, 'd_49'),\n",
      " (0.0, 'd_47'),\n",
      " (0.0, 'd_45'),\n",
      " (0.0, 'd_44'),\n",
      " (0.0, 'd_43'),\n",
      " (0.0, 'd_42'),\n",
      " (0.0, 'd_41'),\n",
      " (0.0, 'd_40'),\n",
      " (0.0, 'd_39'),\n",
      " (0.0, 'd_38'),\n",
      " (0.0, 'd_37'),\n",
      " (0.0, 'd_36'),\n",
      " (0.0, 'd_35'),\n",
      " (0.0, 'd_33'),\n",
      " (0.0, 'd_32'),\n",
      " (0.0, 'd_30'),\n",
      " (0.0, 'd_29'),\n",
      " (0.0, 'd_27'),\n",
      " (0.0, 'd_26'),\n",
      " (0.0, 'd_24'),\n",
      " (0.0, 'd_23'),\n",
      " (0.0, 'd_21'),\n",
      " (0.0, 'd_20'),\n",
      " (0.0, 'd_19'),\n",
      " (0.0, 'd_18'),\n",
      " (0.0, 'd_17'),\n",
      " (0.0, 'd_16'),\n",
      " (0.0, 'd_15'),\n",
      " (0.0, 'd_14'),\n",
      " (0.0, 'd_13'),\n",
      " (0.0, 'd_12'),\n",
      " (0.0, 'd_11'),\n",
      " (0.0, 'd_10'),\n",
      " (0.0, 'd_1'),\n",
      " (0.0, 'd_0')]\n"
     ]
    }
   ],
   "source": [
    "from pprint import pprint\n",
    "print (\"Features sorted by their score:\")\n",
    "pprint (imp_features_sorted)\n"
   ]
  },
  {
   "cell_type": "code",
   "execution_count": 69,
   "metadata": {},
   "outputs": [
    {
     "name": "stdout",
     "output_type": "stream",
     "text": [
      "[(0.7379, 'total_travel_time'), (0.1694, 'total_distance'), (0.0149, 'distance_haversine'), (0.0083000000000000001, 'dow_6'), (0.0077999999999999996, 'direction'), (0.0071999999999999998, 'h_16'), (0.0067000000000000002, 'h_15'), (0.0060000000000000001, 'h_17'), (0.0041000000000000003, 'h_6'), (0.0035000000000000001, 'h_14')]\n"
     ]
    }
   ],
   "source": [
    "top10 = imp_features_sorted[:10]\n",
    "print (top10)"
   ]
  },
  {
   "cell_type": "code",
   "execution_count": 70,
   "metadata": {},
   "outputs": [],
   "source": [
    "temp = []\n",
    "temp2 = []\n",
    "for a in range(10):\n",
    "    temp.append(top10[a][0])\n",
    "    temp2.append(top10[a][1])"
   ]
  },
  {
   "cell_type": "code",
   "execution_count": 71,
   "metadata": {},
   "outputs": [
    {
     "data": {
      "image/png": "[encoded data removed]",
      "text/plain": [
       "<matplotlib.figure.Figure at 0x7f55a09b1c50>"
      ]
     },
     "metadata": {},
     "output_type": "display_data"
    }
   ],
   "source": [
    "import matplotlib.pyplot as plt; plt.rcdefaults()\n",
    "import numpy as np\n",
    "import matplotlib.pyplot as plt\n",
    "  \n",
    "pos = np.arange(len(temp2))    \n",
    "plt.bar(pos, temp, align='center', alpha=0.9)\n",
    "plt.xticks(pos, temp2)\n",
    "plt.ylabel('relative Scores')\n",
    "plt.title('Top10 most important features')\n",
    " \n",
    "plt.show()"
   ]
  }
 ],
 "metadata": {
  "kernelspec": {
   "display_name": "Python 3",
   "language": "python",
   "name": "python3"
  },
  "language_info": {
   "codemirror_mode": {
    "name": "ipython",
    "version": 3
   },
   "file_extension": ".py",
   "mimetype": "text/x-python",
   "name": "python",
   "nbconvert_exporter": "python",
   "pygments_lexer": "ipython3",
   "version": "3.5.3"
  }
 },
 "nbformat": 4,
 "nbformat_minor": 2
}
